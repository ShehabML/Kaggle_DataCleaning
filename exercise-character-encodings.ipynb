{
 "cells": [
  {
   "cell_type": "markdown",
   "id": "4591d2c7",
   "metadata": {
    "papermill": {
     "duration": 0.006288,
     "end_time": "2023-02-14T06:58:51.697191",
     "exception": false,
     "start_time": "2023-02-14T06:58:51.690903",
     "status": "completed"
    },
    "tags": []
   },
   "source": [
    "**This notebook is an exercise in the [Data Cleaning](https://www.kaggle.com/learn/data-cleaning) course.  You can reference the tutorial at [this link](https://www.kaggle.com/alexisbcook/character-encodings).**\n",
    "\n",
    "---\n"
   ]
  },
  {
   "cell_type": "markdown",
   "id": "c70ddf7f",
   "metadata": {
    "papermill": {
     "duration": 0.00458,
     "end_time": "2023-02-14T06:58:51.706917",
     "exception": false,
     "start_time": "2023-02-14T06:58:51.702337",
     "status": "completed"
    },
    "tags": []
   },
   "source": [
    "In this exercise, you'll apply what you learned in the **Character encodings** tutorial.\n",
    "\n",
    "# Setup\n",
    "\n",
    "The questions below will give you feedback on your work. Run the following cell to set up the feedback system."
   ]
  },
  {
   "cell_type": "code",
   "execution_count": 1,
   "id": "0955b7e8",
   "metadata": {
    "execution": {
     "iopub.execute_input": "2023-02-14T06:58:51.719802Z",
     "iopub.status.busy": "2023-02-14T06:58:51.718698Z",
     "iopub.status.idle": "2023-02-14T06:58:51.859720Z",
     "shell.execute_reply": "2023-02-14T06:58:51.857835Z"
    },
    "papermill": {
     "duration": 0.152977,
     "end_time": "2023-02-14T06:58:51.864870",
     "exception": false,
     "start_time": "2023-02-14T06:58:51.711893",
     "status": "completed"
    },
    "tags": []
   },
   "outputs": [
    {
     "name": "stdout",
     "output_type": "stream",
     "text": [
      "Setup Complete\n"
     ]
    }
   ],
   "source": [
    "from learntools.core import binder\n",
    "binder.bind(globals())\n",
    "from learntools.data_cleaning.ex4 import *\n",
    "print(\"Setup Complete\")"
   ]
  },
  {
   "cell_type": "markdown",
   "id": "e206bf64",
   "metadata": {
    "papermill": {
     "duration": 0.005175,
     "end_time": "2023-02-14T06:58:51.876601",
     "exception": false,
     "start_time": "2023-02-14T06:58:51.871426",
     "status": "completed"
    },
    "tags": []
   },
   "source": [
    "# Get our environment set up\n",
    "\n",
    "The first thing we'll need to do is load in the libraries we'll be using."
   ]
  },
  {
   "cell_type": "code",
   "execution_count": 2,
   "id": "6747e6c3",
   "metadata": {
    "execution": {
     "iopub.execute_input": "2023-02-14T06:58:51.889455Z",
     "iopub.status.busy": "2023-02-14T06:58:51.889003Z",
     "iopub.status.idle": "2023-02-14T06:58:51.896667Z",
     "shell.execute_reply": "2023-02-14T06:58:51.894901Z"
    },
    "papermill": {
     "duration": 0.0182,
     "end_time": "2023-02-14T06:58:51.900258",
     "exception": false,
     "start_time": "2023-02-14T06:58:51.882058",
     "status": "completed"
    },
    "tags": []
   },
   "outputs": [],
   "source": [
    "# modules we'll use\n",
    "import pandas as pd\n",
    "import numpy as np\n",
    "\n",
    "# helpful character encoding module\n",
    "import charset_normalizer\n",
    "\n",
    "# set seed for reproducibility\n",
    "np.random.seed(0)"
   ]
  },
  {
   "cell_type": "markdown",
   "id": "c64dd02d",
   "metadata": {
    "papermill": {
     "duration": 0.005749,
     "end_time": "2023-02-14T06:58:51.913439",
     "exception": false,
     "start_time": "2023-02-14T06:58:51.907690",
     "status": "completed"
    },
    "tags": []
   },
   "source": [
    "# 1) What are encodings?\n",
    "\n",
    "You're working with a dataset composed of bytes.  Run the code cell below to print a sample entry."
   ]
  },
  {
   "cell_type": "code",
   "execution_count": 3,
   "id": "16ce65e8",
   "metadata": {
    "execution": {
     "iopub.execute_input": "2023-02-14T06:58:51.926525Z",
     "iopub.status.busy": "2023-02-14T06:58:51.925912Z",
     "iopub.status.idle": "2023-02-14T06:58:51.935020Z",
     "shell.execute_reply": "2023-02-14T06:58:51.933048Z"
    },
    "papermill": {
     "duration": 0.019979,
     "end_time": "2023-02-14T06:58:51.938874",
     "exception": false,
     "start_time": "2023-02-14T06:58:51.918895",
     "status": "completed"
    },
    "tags": []
   },
   "outputs": [
    {
     "name": "stdout",
     "output_type": "stream",
     "text": [
      "b'\\xa7A\\xa6n'\n",
      "data type: <class 'bytes'>\n"
     ]
    }
   ],
   "source": [
    "sample_entry = b'\\xa7A\\xa6n'\n",
    "print(sample_entry)\n",
    "print('data type:', type(sample_entry))"
   ]
  },
  {
   "cell_type": "markdown",
   "id": "d1e59f7f",
   "metadata": {
    "papermill": {
     "duration": 0.006384,
     "end_time": "2023-02-14T06:58:51.950839",
     "exception": false,
     "start_time": "2023-02-14T06:58:51.944455",
     "status": "completed"
    },
    "tags": []
   },
   "source": [
    "You notice that it doesn't use the standard UTF-8 encoding. \n",
    "\n",
    "Use the next code cell to create a variable `new_entry` that changes the encoding from `\"big5-tw\"` to `\"utf-8\"`.  `new_entry` should have the bytes datatype."
   ]
  },
  {
   "cell_type": "code",
   "execution_count": 4,
   "id": "ea342d86",
   "metadata": {
    "execution": {
     "iopub.execute_input": "2023-02-14T06:58:51.964873Z",
     "iopub.status.busy": "2023-02-14T06:58:51.964139Z",
     "iopub.status.idle": "2023-02-14T06:58:51.978431Z",
     "shell.execute_reply": "2023-02-14T06:58:51.976796Z"
    },
    "papermill": {
     "duration": 0.025087,
     "end_time": "2023-02-14T06:58:51.982013",
     "exception": false,
     "start_time": "2023-02-14T06:58:51.956926",
     "status": "completed"
    },
    "tags": []
   },
   "outputs": [
    {
     "data": {
      "application/javascript": [
       "parent.postMessage({\"jupyterEvent\": \"custom.exercise_interaction\", \"data\": {\"outcomeType\": 1, \"valueTowardsCompletion\": 0.3333333333333333, \"interactionType\": 1, \"questionType\": 1, \"questionId\": \"1_EncodingsIntro\", \"learnToolsVersion\": \"0.3.4\", \"failureMessage\": \"\", \"exceptionClass\": \"\", \"trace\": \"\"}}, \"*\")"
      ],
      "text/plain": [
       "<IPython.core.display.Javascript object>"
      ]
     },
     "metadata": {},
     "output_type": "display_data"
    },
    {
     "data": {
      "text/markdown": [
       "<span style=\"color:#33cc33\">Correct</span>"
      ],
      "text/plain": [
       "Correct"
      ]
     },
     "metadata": {},
     "output_type": "display_data"
    }
   ],
   "source": [
    "new_entry = sample_entry.decode(\"big5-tw\").encode()\n",
    "\n",
    "# Check your answer\n",
    "q1.check()"
   ]
  },
  {
   "cell_type": "code",
   "execution_count": 5,
   "id": "ae3e6dc2",
   "metadata": {
    "execution": {
     "iopub.execute_input": "2023-02-14T06:58:51.995417Z",
     "iopub.status.busy": "2023-02-14T06:58:51.994976Z",
     "iopub.status.idle": "2023-02-14T06:58:52.000740Z",
     "shell.execute_reply": "2023-02-14T06:58:51.999222Z"
    },
    "papermill": {
     "duration": 0.016333,
     "end_time": "2023-02-14T06:58:52.004029",
     "exception": false,
     "start_time": "2023-02-14T06:58:51.987696",
     "status": "completed"
    },
    "tags": []
   },
   "outputs": [],
   "source": [
    "# Lines below will give you a hint or solution code\n",
    "#q1.hint()\n",
    "#q1.solution()"
   ]
  },
  {
   "cell_type": "markdown",
   "id": "bdfdcb19",
   "metadata": {
    "papermill": {
     "duration": 0.00542,
     "end_time": "2023-02-14T06:58:52.015534",
     "exception": false,
     "start_time": "2023-02-14T06:58:52.010114",
     "status": "completed"
    },
    "tags": []
   },
   "source": [
    "# 2) Reading in files with encoding problems\n",
    "\n",
    "Use the code cell below to read in this file at path `\"../input/fatal-police-shootings-in-the-us/PoliceKillingsUS.csv\"`.  \n",
    "\n",
    "Figure out what the correct encoding should be and read in the file to a DataFrame `police_killings`."
   ]
  },
  {
   "cell_type": "code",
   "execution_count": 6,
   "id": "16a12231",
   "metadata": {
    "execution": {
     "iopub.execute_input": "2023-02-14T06:58:52.030343Z",
     "iopub.status.busy": "2023-02-14T06:58:52.029865Z",
     "iopub.status.idle": "2023-02-14T06:58:52.060331Z",
     "shell.execute_reply": "2023-02-14T06:58:52.058830Z"
    },
    "papermill": {
     "duration": 0.041607,
     "end_time": "2023-02-14T06:58:52.063602",
     "exception": false,
     "start_time": "2023-02-14T06:58:52.021995",
     "status": "completed"
    },
    "tags": []
   },
   "outputs": [
    {
     "data": {
      "application/javascript": [
       "parent.postMessage({\"jupyterEvent\": \"custom.exercise_interaction\", \"data\": {\"outcomeType\": 1, \"valueTowardsCompletion\": 0.3333333333333333, \"interactionType\": 1, \"questionType\": 1, \"questionId\": \"2_ReadIn\", \"learnToolsVersion\": \"0.3.4\", \"failureMessage\": \"\", \"exceptionClass\": \"\", \"trace\": \"\"}}, \"*\")"
      ],
      "text/plain": [
       "<IPython.core.display.Javascript object>"
      ]
     },
     "metadata": {},
     "output_type": "display_data"
    },
    {
     "data": {
      "text/markdown": [
       "<span style=\"color:#33cc33\">Correct</span>"
      ],
      "text/plain": [
       "Correct"
      ]
     },
     "metadata": {},
     "output_type": "display_data"
    }
   ],
   "source": [
    "# TODO: Load in the DataFrame correctly.\n",
    "police_killings = pd.read_csv(\"../input/fatal-police-shootings-in-the-us/PoliceKillingsUS.csv\", encoding='Windows-1252')\n",
    "\n",
    "# Check your answer\n",
    "q2.check()"
   ]
  },
  {
   "cell_type": "markdown",
   "id": "4a6a136c",
   "metadata": {
    "papermill": {
     "duration": 0.005835,
     "end_time": "2023-02-14T06:58:52.075748",
     "exception": false,
     "start_time": "2023-02-14T06:58:52.069913",
     "status": "completed"
    },
    "tags": []
   },
   "source": [
    "Feel free to use any additional code cells for supplemental work.  To get credit for finishing this question, you'll need to run `q2.check()` and get a result of **Correct**."
   ]
  },
  {
   "cell_type": "code",
   "execution_count": 7,
   "id": "8eee7f16",
   "metadata": {
    "execution": {
     "iopub.execute_input": "2023-02-14T06:58:52.091551Z",
     "iopub.status.busy": "2023-02-14T06:58:52.090199Z",
     "iopub.status.idle": "2023-02-14T06:58:52.097868Z",
     "shell.execute_reply": "2023-02-14T06:58:52.096047Z"
    },
    "papermill": {
     "duration": 0.020249,
     "end_time": "2023-02-14T06:58:52.101555",
     "exception": false,
     "start_time": "2023-02-14T06:58:52.081306",
     "status": "completed"
    },
    "tags": []
   },
   "outputs": [],
   "source": [
    "# (Optional) Use this code cell for any additional work."
   ]
  },
  {
   "cell_type": "code",
   "execution_count": 8,
   "id": "638016e2",
   "metadata": {
    "execution": {
     "iopub.execute_input": "2023-02-14T06:58:52.116452Z",
     "iopub.status.busy": "2023-02-14T06:58:52.115988Z",
     "iopub.status.idle": "2023-02-14T06:58:52.122517Z",
     "shell.execute_reply": "2023-02-14T06:58:52.120527Z"
    },
    "papermill": {
     "duration": 0.018875,
     "end_time": "2023-02-14T06:58:52.127233",
     "exception": false,
     "start_time": "2023-02-14T06:58:52.108358",
     "status": "completed"
    },
    "tags": []
   },
   "outputs": [],
   "source": [
    "# Lines below will give you a hint or solution code\n",
    "#q2.hint()\n",
    "#q2.solution()"
   ]
  },
  {
   "cell_type": "markdown",
   "id": "aee55eb3",
   "metadata": {
    "papermill": {
     "duration": 0.005728,
     "end_time": "2023-02-14T06:58:52.141021",
     "exception": false,
     "start_time": "2023-02-14T06:58:52.135293",
     "status": "completed"
    },
    "tags": []
   },
   "source": [
    "# 3) Saving your files with UTF-8 encoding\n",
    "\n",
    "Save a version of the police killings dataset to CSV with UTF-8 encoding.  Your answer will be marked correct after saving this file.  \n",
    "\n",
    "Note: When using the `to_csv()` method, supply only the name of the file (e.g., `\"my_file.csv\"`).  This saves the file at the filepath `\"/kaggle/working/my_file.csv\"`."
   ]
  },
  {
   "cell_type": "code",
   "execution_count": 9,
   "id": "9445e075",
   "metadata": {
    "execution": {
     "iopub.execute_input": "2023-02-14T06:58:52.160276Z",
     "iopub.status.busy": "2023-02-14T06:58:52.159800Z",
     "iopub.status.idle": "2023-02-14T06:58:52.204362Z",
     "shell.execute_reply": "2023-02-14T06:58:52.202964Z"
    },
    "papermill": {
     "duration": 0.058833,
     "end_time": "2023-02-14T06:58:52.207107",
     "exception": false,
     "start_time": "2023-02-14T06:58:52.148274",
     "status": "completed"
    },
    "tags": []
   },
   "outputs": [
    {
     "data": {
      "application/javascript": [
       "parent.postMessage({\"jupyterEvent\": \"custom.exercise_interaction\", \"data\": {\"outcomeType\": 1, \"valueTowardsCompletion\": 0.3333333333333333, \"interactionType\": 1, \"questionType\": 2, \"questionId\": \"3_SaveCSV\", \"learnToolsVersion\": \"0.3.4\", \"failureMessage\": \"\", \"exceptionClass\": \"\", \"trace\": \"\"}}, \"*\")"
      ],
      "text/plain": [
       "<IPython.core.display.Javascript object>"
      ]
     },
     "metadata": {},
     "output_type": "display_data"
    },
    {
     "data": {
      "text/markdown": [
       "<span style=\"color:#33cc33\">Correct</span>"
      ],
      "text/plain": [
       "Correct"
      ]
     },
     "metadata": {},
     "output_type": "display_data"
    }
   ],
   "source": [
    "# TODO: Save the police killings dataset to CSV\n",
    "police_killings.to_csv(\"my_file.csv\")\n",
    "\n",
    "# Check your answer\n",
    "q3.check()"
   ]
  },
  {
   "cell_type": "code",
   "execution_count": 10,
   "id": "83ee9d3a",
   "metadata": {
    "execution": {
     "iopub.execute_input": "2023-02-14T06:58:52.220996Z",
     "iopub.status.busy": "2023-02-14T06:58:52.220481Z",
     "iopub.status.idle": "2023-02-14T06:58:52.227189Z",
     "shell.execute_reply": "2023-02-14T06:58:52.225408Z"
    },
    "papermill": {
     "duration": 0.017367,
     "end_time": "2023-02-14T06:58:52.230300",
     "exception": false,
     "start_time": "2023-02-14T06:58:52.212933",
     "status": "completed"
    },
    "tags": []
   },
   "outputs": [],
   "source": [
    "# Lines below will give you a hint or solution code\n",
    "#q3.hint()\n",
    "#q3.solution()"
   ]
  },
  {
   "cell_type": "markdown",
   "id": "c616ad38",
   "metadata": {
    "papermill": {
     "duration": 0.005402,
     "end_time": "2023-02-14T06:58:52.241587",
     "exception": false,
     "start_time": "2023-02-14T06:58:52.236185",
     "status": "completed"
    },
    "tags": []
   },
   "source": [
    "# (Optional) More practice\n",
    "\n",
    "Check out [this dataset of files in different character encodings](https://www.kaggle.com/rtatman/character-encoding-examples). Can you read in all the files with their original encodings and them save them out as UTF-8 files?\n",
    "\n",
    "If you have a file that's in UTF-8 but has just a couple of weird-looking characters in it, you can try out the [ftfy module](https://ftfy.readthedocs.io/en/latest/#) and see if it helps. \n",
    "\n",
    "# Keep going\n",
    "\n",
    "In the final lesson, learn how to [**clean up inconsistent text entries**](https://www.kaggle.com/alexisbcook/inconsistent-data-entry) in your dataset."
   ]
  },
  {
   "cell_type": "markdown",
   "id": "683077ae",
   "metadata": {
    "papermill": {
     "duration": 0.00768,
     "end_time": "2023-02-14T06:58:52.255050",
     "exception": false,
     "start_time": "2023-02-14T06:58:52.247370",
     "status": "completed"
    },
    "tags": []
   },
   "source": [
    "---\n",
    "\n",
    "\n",
    "\n",
    "\n",
    "*Have questions or comments? Visit the [course discussion forum](https://www.kaggle.com/learn/data-cleaning/discussion) to chat with other learners.*"
   ]
  }
 ],
 "metadata": {
  "kernelspec": {
   "display_name": "Python 3",
   "language": "python",
   "name": "python3"
  },
  "language_info": {
   "codemirror_mode": {
    "name": "ipython",
    "version": 3
   },
   "file_extension": ".py",
   "mimetype": "text/x-python",
   "name": "python",
   "nbconvert_exporter": "python",
   "pygments_lexer": "ipython3",
   "version": "3.7.12"
  },
  "papermill": {
   "default_parameters": {},
   "duration": 13.344475,
   "end_time": "2023-02-14T06:58:53.188881",
   "environment_variables": {},
   "exception": null,
   "input_path": "__notebook__.ipynb",
   "output_path": "__notebook__.ipynb",
   "parameters": {},
   "start_time": "2023-02-14T06:58:39.844406",
   "version": "2.3.4"
  }
 },
 "nbformat": 4,
 "nbformat_minor": 5
}
